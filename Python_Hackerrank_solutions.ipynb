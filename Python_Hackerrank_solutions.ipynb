{
  "nbformat": 4,
  "nbformat_minor": 0,
  "metadata": {
    "colab": {
      "provenance": [],
      "authorship_tag": "ABX9TyNIqhKhzRjG1pfj1Jk6qYmW",
      "include_colab_link": true
    },
    "kernelspec": {
      "name": "python3",
      "display_name": "Python 3"
    },
    "language_info": {
      "name": "python"
    }
  },
  "cells": [
    {
      "cell_type": "markdown",
      "metadata": {
        "id": "view-in-github",
        "colab_type": "text"
      },
      "source": [
        "<a href=\"https://colab.research.google.com/github/Snehamn24/Python-Hackerrank-Solutions/blob/main/Python_Hackerrank_solutions.ipynb\" target=\"_parent\"><img src=\"https://colab.research.google.com/assets/colab-badge.svg\" alt=\"Open In Colab\"/></a>"
      ]
    },
    {
      "cell_type": "markdown",
      "source": [
        "# I . **Itertools** - The itertools module in Python's standard library provides a collection of functions for creating and manipulating iterators. It offers efficient tools for various iteration tasks, including combining, repeating, and generating sequences.\n"
      ],
      "metadata": {
        "id": "Q-eDU2huon4I"
      }
    },
    {
      "cell_type": "markdown",
      "source": [
        "1 . product() - The itertools.product() function in Python is a tool used to calculate the Cartesian product of input iterables\n",
        "\n",
        "Question - Create the Cartesian Product of the 2 lists"
      ],
      "metadata": {
        "id": "FwDjBHrsp3dh"
      }
    },
    {
      "cell_type": "code",
      "source": [
        "from itertools import product\n",
        "\n",
        "#read the list\n",
        "list1 = list(map(int,input().split()))\n",
        "list2 = list(map(int,input().split()))\n",
        "\n",
        "#create the cartesian product\n",
        "car_product = list(product(list1,list2))\n",
        "\n",
        "#iterate over and print the pairs\n",
        "for ele in car_product:\n",
        "  print(ele,end=\" \")"
      ],
      "metadata": {
        "colab": {
          "base_uri": "https://localhost:8080/"
        },
        "id": "TSBDfpLMoy2a",
        "outputId": "c5e0afdd-f7b8-4403-fdfc-80c7b209983e"
      },
      "execution_count": 2,
      "outputs": [
        {
          "output_type": "stream",
          "name": "stdout",
          "text": [
            "1 2\n",
            "3 4\n",
            "(1, 3) (1, 4) (2, 3) (2, 4) "
          ]
        }
      ]
    },
    {
      "cell_type": "markdown",
      "source": [
        "2 . permutations() :  function in Python is a part of the itertools module used to generate all possible ordered arrangements (permutations) of elements from a given iterable.\n",
        "\n",
        "Syntax : itertools.permutations(iterable, r=None)\n",
        "\n",
        "\n",
        "Question : Create the permutations from the given string and the given n value for the number of elements included in the each permutation\n",
        "\n"
      ],
      "metadata": {
        "id": "BdrKUzpgy-ML"
      }
    },
    {
      "cell_type": "code",
      "source": [
        "from itertools import permutations\n",
        "\n",
        "#read string and n value\n",
        "str , n = input().split()\n",
        "n = int(input())\n",
        "\n",
        "#create the permutations and print\n",
        "for ele in permutations(str,n):\n",
        "  print(\"\".join(ele))"
      ],
      "metadata": {
        "colab": {
          "base_uri": "https://localhost:8080/"
        },
        "id": "f1TscAh-o-YX",
        "outputId": "242ada79-a18c-49ca-da37-7adb4d45e3a5"
      },
      "execution_count": 7,
      "outputs": [
        {
          "output_type": "stream",
          "name": "stdout",
          "text": [
            "HACK 2\n",
            "2\n",
            "HA\n",
            "HC\n",
            "HK\n",
            "AH\n",
            "AC\n",
            "AK\n",
            "CH\n",
            "CA\n",
            "CK\n",
            "KH\n",
            "KA\n",
            "KC\n"
          ]
        }
      ]
    },
    {
      "cell_type": "markdown",
      "source": [
        "\n",
        "\n",
        "*  3 . itertools.combinations(iterable, r) returns an iterator that yields r-length subsequences of elements from the input iterable\n",
        "*   Questions : You are given a string .\n",
        "Your task is to print all possible combinations, up to size n , of the string in lexicographic sorted order.\n",
        "\n"
      ],
      "metadata": {
        "id": "PEfwm-Pg3nD9"
      }
    },
    {
      "cell_type": "code",
      "source": [
        "from itertools import combinations\n",
        "\n",
        "str , n = input().split()\n",
        "n = int(n)\n",
        "\n",
        "for i in range(1,n+1):\n",
        "  for ele in combinations(sorted(str),i):\n",
        "    print(\"\".join(ele))"
      ],
      "metadata": {
        "colab": {
          "base_uri": "https://localhost:8080/"
        },
        "id": "xarJk--Pz_lH",
        "outputId": "d06cc760-dda6-4071-eb99-44acde3a7341"
      },
      "execution_count": 10,
      "outputs": [
        {
          "output_type": "stream",
          "name": "stdout",
          "text": [
            "HACK 2\n",
            "A\n",
            "C\n",
            "H\n",
            "K\n",
            "AC\n",
            "AH\n",
            "AK\n",
            "CH\n",
            "CK\n",
            "HK\n"
          ]
        }
      ]
    },
    {
      "cell_type": "markdown",
      "source": [
        "4 . The itertools.combinations_with_replacement() function in Python's itertools module is used to generate all possible unique combinations of elements from a given iterable, allowing elements to be repeated within each combination.\n",
        "\n",
        "Syntax : itertools.combinations_with_replacement(iterable, r)\n",
        "\n",
        "Question : You are given a string S.\n",
        "Your task is to print all possible size K replacement combinations of the string in lexicographic sorted order."
      ],
      "metadata": {
        "id": "XuF86k7s9cyG"
      }
    },
    {
      "cell_type": "code",
      "source": [
        "from itertools import combinations_with_replacement\n",
        "\n",
        "str , n = input().split()\n",
        "n = int(n)\n",
        "\n",
        "for ele in combinations_with_replacement(sorted(str),n):\n",
        "  print(\"\".join(ele))"
      ],
      "metadata": {
        "colab": {
          "base_uri": "https://localhost:8080/"
        },
        "id": "R1XagjOW7GwV",
        "outputId": "6106d1df-f13d-41b0-b785-59a28fc50413"
      },
      "execution_count": 11,
      "outputs": [
        {
          "output_type": "stream",
          "name": "stdout",
          "text": [
            "HACK 2\n",
            "AA\n",
            "AC\n",
            "AH\n",
            "AK\n",
            "CC\n",
            "CH\n",
            "CK\n",
            "HH\n",
            "HK\n",
            "KK\n"
          ]
        }
      ]
    },
    {
      "cell_type": "markdown",
      "source": [],
      "metadata": {
        "id": "bMIDZWxw9bbM"
      }
    }
  ]
}