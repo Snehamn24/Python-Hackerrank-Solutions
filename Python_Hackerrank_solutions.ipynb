{
  "nbformat": 4,
  "nbformat_minor": 0,
  "metadata": {
    "colab": {
      "provenance": [],
      "authorship_tag": "ABX9TyPBzgi0BQRaVJyuAmuij+o4",
      "include_colab_link": true
    },
    "kernelspec": {
      "name": "python3",
      "display_name": "Python 3"
    },
    "language_info": {
      "name": "python"
    }
  },
  "cells": [
    {
      "cell_type": "markdown",
      "metadata": {
        "id": "view-in-github",
        "colab_type": "text"
      },
      "source": [
        "<a href=\"https://colab.research.google.com/github/Snehamn24/Python-Hackerrank-Solutions/blob/main/Python_Hackerrank_solutions.ipynb\" target=\"_parent\"><img src=\"https://colab.research.google.com/assets/colab-badge.svg\" alt=\"Open In Colab\"/></a>"
      ]
    },
    {
      "cell_type": "markdown",
      "source": [
        "# I . **Itertools** - The itertools module in Python's standard library provides a collection of functions for creating and manipulating iterators. It offers efficient tools for various iteration tasks, including combining, repeating, and generating sequences.\n"
      ],
      "metadata": {
        "id": "Q-eDU2huon4I"
      }
    },
    {
      "cell_type": "markdown",
      "source": [
        "1 . product() - The itertools.product() function in Python is a tool used to calculate the Cartesian product of input iterables\n",
        "\n",
        "Question - Create the Cartesian Product of the 2 lists"
      ],
      "metadata": {
        "id": "FwDjBHrsp3dh"
      }
    },
    {
      "cell_type": "code",
      "source": [
        "from itertools import product\n",
        "\n",
        "#read the list\n",
        "list1 = list(map(int,input().split()))\n",
        "list2 = list(map(int,input().split()))\n",
        "\n",
        "#create the cartesian product\n",
        "car_product = list(product(list1,list2))\n",
        "\n",
        "#iterate over and print the pairs\n",
        "for ele in car_product:\n",
        "  print(ele,end=\" \")"
      ],
      "metadata": {
        "colab": {
          "base_uri": "https://localhost:8080/"
        },
        "id": "TSBDfpLMoy2a",
        "outputId": "c5e0afdd-f7b8-4403-fdfc-80c7b209983e"
      },
      "execution_count": 2,
      "outputs": [
        {
          "output_type": "stream",
          "name": "stdout",
          "text": [
            "1 2\n",
            "3 4\n",
            "(1, 3) (1, 4) (2, 3) (2, 4) "
          ]
        }
      ]
    },
    {
      "cell_type": "markdown",
      "source": [
        "2 . permutations() :  function in Python is a part of the itertools module used to generate all possible ordered arrangements (permutations) of elements from a given iterable.\n",
        "\n",
        "Syntax : itertools.permutations(iterable, r=None)\n",
        "\n",
        "\n",
        "Question : Create the permutations from the given string and the given n value for the number of elements included in the each permutation\n",
        "\n"
      ],
      "metadata": {
        "id": "BdrKUzpgy-ML"
      }
    },
    {
      "cell_type": "code",
      "source": [
        "from itertools import permutations\n",
        "\n",
        "#read string and n value\n",
        "str , n = input().split()\n",
        "n = int(input())\n",
        "\n",
        "#create the permutations and print\n",
        "for ele in permutations(str,n):\n",
        "  print(\"\".join(ele))"
      ],
      "metadata": {
        "colab": {
          "base_uri": "https://localhost:8080/"
        },
        "id": "f1TscAh-o-YX",
        "outputId": "242ada79-a18c-49ca-da37-7adb4d45e3a5"
      },
      "execution_count": 7,
      "outputs": [
        {
          "output_type": "stream",
          "name": "stdout",
          "text": [
            "HACK 2\n",
            "2\n",
            "HA\n",
            "HC\n",
            "HK\n",
            "AH\n",
            "AC\n",
            "AK\n",
            "CH\n",
            "CA\n",
            "CK\n",
            "KH\n",
            "KA\n",
            "KC\n"
          ]
        }
      ]
    },
    {
      "cell_type": "markdown",
      "source": [
        "\n",
        "\n",
        "*  3 . itertools.combinations(iterable, r) returns an iterator that yields r-length subsequences of elements from the input iterable\n",
        "*   Questions : You are given a string .\n",
        "Your task is to print all possible combinations, up to size n , of the string in lexicographic sorted order.\n",
        "\n"
      ],
      "metadata": {
        "id": "PEfwm-Pg3nD9"
      }
    },
    {
      "cell_type": "code",
      "source": [
        "from itertools import combinations\n",
        "\n",
        "str , n = input().split()\n",
        "n = int(n)\n",
        "\n",
        "for i in range(1,n+1):\n",
        "  for ele in combinations(sorted(str),i):\n",
        "    print(\"\".join(ele))"
      ],
      "metadata": {
        "colab": {
          "base_uri": "https://localhost:8080/"
        },
        "id": "xarJk--Pz_lH",
        "outputId": "d06cc760-dda6-4071-eb99-44acde3a7341"
      },
      "execution_count": 10,
      "outputs": [
        {
          "output_type": "stream",
          "name": "stdout",
          "text": [
            "HACK 2\n",
            "A\n",
            "C\n",
            "H\n",
            "K\n",
            "AC\n",
            "AH\n",
            "AK\n",
            "CH\n",
            "CK\n",
            "HK\n"
          ]
        }
      ]
    },
    {
      "cell_type": "markdown",
      "source": [
        "4 . The itertools.combinations_with_replacement() function in Python's itertools module is used to generate all possible unique combinations of elements from a given iterable, allowing elements to be repeated within each combination.\n",
        "\n",
        "Syntax : itertools.combinations_with_replacement(iterable, r)\n",
        "\n",
        "Question : You are given a string S.\n",
        "Your task is to print all possible size K replacement combinations of the string in lexicographic sorted order."
      ],
      "metadata": {
        "id": "XuF86k7s9cyG"
      }
    },
    {
      "cell_type": "code",
      "source": [
        "from itertools import combinations_with_replacement\n",
        "\n",
        "str , n = input().split()\n",
        "n = int(n)\n",
        "\n",
        "for ele in combinations_with_replacement(sorted(str),n):\n",
        "  print(\"\".join(ele))"
      ],
      "metadata": {
        "colab": {
          "base_uri": "https://localhost:8080/"
        },
        "id": "R1XagjOW7GwV",
        "outputId": "6106d1df-f13d-41b0-b785-59a28fc50413"
      },
      "execution_count": 11,
      "outputs": [
        {
          "output_type": "stream",
          "name": "stdout",
          "text": [
            "HACK 2\n",
            "AA\n",
            "AC\n",
            "AH\n",
            "AK\n",
            "CC\n",
            "CH\n",
            "CK\n",
            "HH\n",
            "HK\n",
            "KK\n"
          ]
        }
      ]
    },
    {
      "cell_type": "markdown",
      "source": [
        "5 . itertools.groupby() : The itertools.groupby() function in Python groups consecutive elements from an iterable that share the same key. A key function can be provided to determine the grouping criteria.\n",
        "\n",
        "Question : Sample Input\n",
        "\n",
        "1222311\n",
        "\n",
        "Sample Output\n",
        "\n",
        "(1, 1) (3, 2) (1, 3) (2, 1)  - count the number of times it occurs and then print its value"
      ],
      "metadata": {
        "id": "YvpUuVUkebWF"
      }
    },
    {
      "cell_type": "code",
      "source": [
        "from itertools import groupby\n",
        "\n",
        "value = input()\n",
        "\n",
        "for i ,group in groupby(value):\n",
        "  print(f\"({len(list(group))}, {i})\")"
      ],
      "metadata": {
        "colab": {
          "base_uri": "https://localhost:8080/"
        },
        "id": "twEIuuame4X9",
        "outputId": "ff4d1aba-a8b9-4629-c924-b31b4db4a873"
      },
      "execution_count": 1,
      "outputs": [
        {
          "output_type": "stream",
          "name": "stdout",
          "text": [
            "1222334\n",
            "(1, 1)\n",
            "(3, 2)\n",
            "(2, 3)\n",
            "(1, 4)\n"
          ]
        }
      ]
    },
    {
      "cell_type": "markdown",
      "source": [
        "6 . iterables and itertools\n",
        "The input consists of three lines. The first line contains the integer N , denoting the length of the list. The next line consists of N  space-separated lowercase English letters, denoting the elements of the list.\n",
        "\n",
        "The third and the last line of input contains the integer K , denoting the number of indices to be selected.\n",
        "\n",
        "Output Format\n",
        "\n",
        "Output a single line consisting of the probability that at least one of the  K indices selected contains the letter:'a'."
      ],
      "metadata": {
        "id": "bMIDZWxw9bbM"
      }
    },
    {
      "cell_type": "code",
      "source": [
        "from itertools import combinations\n",
        "\n",
        "n = int(input())\n",
        "my_str = input().split()\n",
        "k = int(input())\n",
        "\n",
        "\n",
        "#total combinations\n",
        "total_combinations = list(combinations(my_str,k))\n",
        "\n",
        "#counting the number of a in the total combination\n",
        "a = sum(1 for c in total_combinations if 'a' in c)\n",
        "\n",
        "#probability = count_number_of_combination_with_'a'/total_combinatio\n",
        "probability = a/len(total_combinations)\n",
        "\n",
        "print(f\"{probability:.3f}\")"
      ],
      "metadata": {
        "colab": {
          "base_uri": "https://localhost:8080/"
        },
        "id": "JzQ4ecZJBF2_",
        "outputId": "20262fa5-5aec-4536-faed-d25221c94f4b"
      },
      "execution_count": 1,
      "outputs": [
        {
          "output_type": "stream",
          "name": "stdout",
          "text": [
            "4\n",
            "a a c d\n",
            "2\n",
            "0.833\n"
          ]
        }
      ]
    },
    {
      "cell_type": "code",
      "source": [],
      "metadata": {
        "id": "qFHNinbHBJ49"
      },
      "execution_count": null,
      "outputs": []
    }
  ]
}